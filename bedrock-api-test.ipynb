{
 "cells": [
  {
   "cell_type": "code",
   "execution_count": 2,
   "metadata": {
    "vscode": {
     "languageId": "markdown"
    }
   },
   "outputs": [],
   "source": [
    "!export OPENAI_API_KEY=do343be\n",
    "!export OPENAI_BASE_URL=http://Bedroc-Proxy-yn04k0eM3H4D-1077732919.us-east-1.elb.amazonaws.com/api/v1\n",
    "\n"
   ]
  },
  {
   "cell_type": "code",
   "execution_count": 8,
   "metadata": {},
   "outputs": [
    {
     "name": "stdout",
     "output_type": "stream",
     "text": [
      "Unfortunately, I don't actually have the capability to tell the current time in a specific location. As an AI assistant without an integrated clock or connection to time servers, I don't have a real-time awareness of the precise time anywhere in the world. I can provide you with information about time zones and do time calculations if you give me a specific time, but I don't have a feed of the current time for different cities. Please let me know if you need any other time-related information!\n"
     ]
    }
   ],
   "source": [
    "from openai import OpenAI\n",
    "\n",
    "client = OpenAI(api_key='do343apikey', base_url='http://Bedroc-Proxy-yn04k0eM3H4D-1077732919.us-east-1.elb.amazonaws.com/api/v1')\n",
    "completion = client.chat.completions.create(\n",
    "    model=\"anthropic.claude-3-sonnet-20240229-v1:0\",\n",
    "    messages=[{\"role\": \"user\", \"content\": \"whats the time in washington dc right now\"}],\n",
    ")\n",
    "\n",
    "print(completion.choices[0].message.content)\n",
    "\n"
   ]
  }
 ],
 "metadata": {
  "kernelspec": {
   "display_name": "fmbench_python311",
   "language": "python",
   "name": "python3"
  },
  "language_info": {
   "codemirror_mode": {
    "name": "ipython",
    "version": 3
   },
   "file_extension": ".py",
   "mimetype": "text/x-python",
   "name": "python",
   "nbconvert_exporter": "python",
   "pygments_lexer": "ipython3",
   "version": "3.11.9"
  }
 },
 "nbformat": 4,
 "nbformat_minor": 2
}
